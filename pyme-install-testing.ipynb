{
 "cells": [
  {
   "cell_type": "code",
   "execution_count": 1,
   "id": "f687bf6e",
   "metadata": {},
   "outputs": [],
   "source": [
    "line = 'base                  *  /Users/csoe002/miniconda3'"
   ]
  },
  {
   "cell_type": "code",
   "execution_count": 2,
   "id": "ab0a370d",
   "metadata": {},
   "outputs": [],
   "source": [
    "import re"
   ]
  },
  {
   "cell_type": "code",
   "execution_count": 3,
   "id": "becd0a13",
   "metadata": {},
   "outputs": [],
   "source": [
    "restr = \"(\\S+)\\s+[*]*\\s*(\\S+)\""
   ]
  },
  {
   "cell_type": "code",
   "execution_count": 4,
   "id": "56e6d007",
   "metadata": {},
   "outputs": [],
   "source": [
    "m = re.match(restr,line)"
   ]
  },
  {
   "cell_type": "code",
   "execution_count": 5,
   "id": "c0ae4110",
   "metadata": {},
   "outputs": [
    {
     "data": {
      "text/plain": [
       "'base                  *  /Users/csoe002/miniconda3'"
      ]
     },
     "execution_count": 5,
     "metadata": {},
     "output_type": "execute_result"
    }
   ],
   "source": [
    "m.group(0)"
   ]
  },
  {
   "cell_type": "code",
   "execution_count": 6,
   "id": "04a12ac1",
   "metadata": {},
   "outputs": [
    {
     "data": {
      "text/plain": [
       "('base', '/Users/csoe002/miniconda3')"
      ]
     },
     "execution_count": 6,
     "metadata": {},
     "output_type": "execute_result"
    }
   ],
   "source": [
    "m.groups()"
   ]
  },
  {
   "cell_type": "code",
   "execution_count": 7,
   "id": "1290a044",
   "metadata": {},
   "outputs": [],
   "source": [
    "import condacmds as cmds"
   ]
  },
  {
   "cell_type": "code",
   "execution_count": 8,
   "id": "140bdf13",
   "metadata": {},
   "outputs": [],
   "source": [
    "from pathlib import Path"
   ]
  },
  {
   "cell_type": "code",
   "execution_count": 9,
   "id": "8c9e6900",
   "metadata": {
    "scrolled": true
   },
   "outputs": [],
   "source": [
    "# cmds.unpack_snapshot(Path(\"build-test\") / 'PYME-extra.zip', \"build-test\")"
   ]
  },
  {
   "cell_type": "code",
   "execution_count": 10,
   "id": "6e83b3ac",
   "metadata": {},
   "outputs": [
    {
     "data": {
      "text/plain": [
       "'PYME-extra-master'"
      ]
     },
     "execution_count": 10,
     "metadata": {},
     "output_type": "execute_result"
    }
   ],
   "source": [
    "cmds.repo_dirname('soeller/PYME-extra')"
   ]
  },
  {
   "cell_type": "code",
   "execution_count": 11,
   "id": "31a126a5",
   "metadata": {},
   "outputs": [
    {
     "name": "stdout",
     "output_type": "stream",
     "text": [
      "https://github.com/csoeller/PYME-extra/archive/refs/heads/master.zip\n",
      "PYME-extra\n"
     ]
    }
   ],
   "source": [
    "print(cmds.repo_url('csoeller/PYME-extra'))\n",
    "print(cmds.repobasename('csoeller/PYME-extra'))"
   ]
  },
  {
   "cell_type": "code",
   "execution_count": 12,
   "id": "9727cd6c",
   "metadata": {},
   "outputs": [],
   "source": [
    "python='3.9'\n",
    "environment='test-pyme-%s' % python"
   ]
  },
  {
   "cell_type": "code",
   "execution_count": 13,
   "id": "fae716d8",
   "metadata": {},
   "outputs": [
    {
     "name": "stdout",
     "output_type": "stream",
     "text": [
      "/Users/csoe002/miniconda3/envs/pyme38_2/bin/python\n",
      "\n"
     ]
    }
   ],
   "source": [
    "from subprocess import run\n",
    "compoundcmd = \"conda activate %s ; which python\" % (environment)\n",
    "# need to use the shell flag!!\n",
    "# Otherwise we get an error as the commandstring does not get parsed properly\n",
    "proc = run(compoundcmd, text=True, capture_output=True, shell=True)\n",
    "print(proc.stdout)"
   ]
  },
  {
   "cell_type": "code",
   "execution_count": 14,
   "id": "cfc37a3e",
   "metadata": {},
   "outputs": [
    {
     "data": {
      "text/plain": [
       "'/Users/csoe002/miniconda3/envs/pyme38_2/bin/python'"
      ]
     },
     "execution_count": 14,
     "metadata": {},
     "output_type": "execute_result"
    }
   ],
   "source": [
    "import sys\n",
    "sys.executable"
   ]
  },
  {
   "cell_type": "code",
   "execution_count": 15,
   "id": "75ce77ec",
   "metadata": {},
   "outputs": [
    {
     "data": {
      "text/plain": [
       "PosixPath('/Users/csoe002/miniconda3/envs/pyme38_2/bin/python.app')"
      ]
     },
     "execution_count": 15,
     "metadata": {},
     "output_type": "execute_result"
    }
   ],
   "source": [
    "Path(sys.executable).with_suffix('.app')"
   ]
  },
  {
   "cell_type": "code",
   "execution_count": 16,
   "id": "00aef40d",
   "metadata": {},
   "outputs": [
    {
     "data": {
      "text/plain": [
       "'Collecting w\\n  Using cached w-0.11.1.tar.gz (2.3 MB)\\n  Preparing metadata (setup.py): started\\n  Preparing metadata (setup.py): finished with status \\'error\\'\\n  error: subprocess-exited-with-error\\n  \\n  × python setup.py egg_info did not run successfully.\\n  │ exit code: 1\\n  ╰─> [6 lines of output]\\n      Traceback (most recent call last):\\n        File \"<string>\", line 2, in <module>\\n        File \"<pip-setuptools-caller>\", line 34, in <module>\\n        File \"/private/var/folders/2l/r_tnxgld023_swcgqhmtby4r0000gn/T/pip-install-ff5mh6fy/w_9c39243e443e4738a1180f1026e766b6/setup.py\", line 27, in <module>\\n          with open(\\'requirements.txt\\') as f:\\n      FileNotFoundError: [Errno 2] No such file or directory: \\'requirements.txt\\'\\n      [end of output]\\n  \\n  note: This error originates from a subprocess, and is likely not a problem with pip.\\nerror: metadata-generation-failed\\n\\n× Encountered error while generating package metadata.\\n╰─> See above for output.\\n\\nnote: This is an issue with the package mentioned above, not pip.\\nhint: See above for details.\\n'"
      ]
     },
     "execution_count": 16,
     "metadata": {},
     "output_type": "execute_result"
    }
   ],
   "source": [
    "cmds.pip_install(environment,'wx')"
   ]
  },
  {
   "cell_type": "code",
   "execution_count": 17,
   "id": "b097aa53",
   "metadata": {},
   "outputs": [
    {
     "data": {
      "text/plain": [
       "'conda activate %s  && cmd 2'"
      ]
     },
     "execution_count": 17,
     "metadata": {},
     "output_type": "execute_result"
    }
   ],
   "source": [
    "cmds.mk_compound_cmd('conda activate %s ','cmd 2')"
   ]
  },
  {
   "cell_type": "code",
   "execution_count": 18,
   "id": "11aedf9a",
   "metadata": {},
   "outputs": [],
   "source": [
    "import shutil\n",
    "import pathlib\n",
    "condapth = pathlib.Path(shutil.which('conda'))"
   ]
  },
  {
   "cell_type": "code",
   "execution_count": 19,
   "id": "ce705141",
   "metadata": {},
   "outputs": [
    {
     "data": {
      "text/plain": [
       "('/', 'Users', 'csoe002', 'miniconda3', 'condabin', 'conda')"
      ]
     },
     "execution_count": 19,
     "metadata": {},
     "output_type": "execute_result"
    }
   ],
   "source": [
    "condapth.parts"
   ]
  },
  {
   "cell_type": "code",
   "execution_count": 20,
   "id": "164b4141",
   "metadata": {},
   "outputs": [
    {
     "data": {
      "text/plain": [
       "4"
      ]
     },
     "execution_count": 20,
     "metadata": {},
     "output_type": "execute_result"
    }
   ],
   "source": [
    "condapth.parts.index('condabin')"
   ]
  },
  {
   "cell_type": "code",
   "execution_count": 21,
   "id": "f4b38b6b",
   "metadata": {},
   "outputs": [],
   "source": [
    "parts = condapth.parts[0:condapth.parts.index('condabin')]"
   ]
  },
  {
   "cell_type": "code",
   "execution_count": 22,
   "id": "cb10a55b",
   "metadata": {},
   "outputs": [],
   "source": [
    "condashpath = pathlib.Path().joinpath(*parts) / 'etc/profile.d/conda.sh'"
   ]
  },
  {
   "cell_type": "code",
   "execution_count": 23,
   "id": "c0735a49",
   "metadata": {},
   "outputs": [
    {
     "data": {
      "text/plain": [
       "True"
      ]
     },
     "execution_count": 23,
     "metadata": {},
     "output_type": "execute_result"
    }
   ],
   "source": [
    "condashpath.exists()"
   ]
  },
  {
   "cell_type": "code",
   "execution_count": 32,
   "id": "4282b692",
   "metadata": {},
   "outputs": [],
   "source": [
    "def condash_location():\n",
    "    import shutil\n",
    "    import pathlib\n",
    "    condapth = pathlib.Path(shutil.which('conda'))\n",
    "    parts = condapth.parts\n",
    "    if 'condabin' in parts:\n",
    "        initial_path = pathlib.Path().joinpath(*parts[0:parts.index('condabin')])\n",
    "        condash_path = initial_path / 'etc/profile.d/conda.sh'\n",
    "        if condash_path.exists():\n",
    "            return condash_path\n",
    "    raise RuntimeError('cannot find conda.sh')"
   ]
  },
  {
   "cell_type": "code",
   "execution_count": 33,
   "id": "08636106",
   "metadata": {},
   "outputs": [
    {
     "data": {
      "text/plain": [
       "PosixPath('/Users/csoe002/miniconda3/etc/profile.d/conda.sh')"
      ]
     },
     "execution_count": 33,
     "metadata": {},
     "output_type": "execute_result"
    }
   ],
   "source": [
    "condash_location()"
   ]
  },
  {
   "cell_type": "code",
   "execution_count": 1,
   "id": "6963070b",
   "metadata": {},
   "outputs": [
    {
     "data": {
      "text/plain": [
       "['matplotlib=3.6',\n",
       " 'pytables',\n",
       " 'pyopengl',\n",
       " 'jinja2',\n",
       " 'cython',\n",
       " 'pip',\n",
       " 'requests',\n",
       " 'pyyaml',\n",
       " 'psutil',\n",
       " 'pandas',\n",
       " 'scikit-image',\n",
       " 'scikit-learn',\n",
       " 'sphinx',\n",
       " 'toposort',\n",
       " 'pybind11']"
      ]
     },
     "execution_count": 1,
     "metadata": {},
     "output_type": "execute_result"
    }
   ],
   "source": [
    "('matplotlib=3.6 pytables pyopengl jinja2 cython pip requests pyyaml' +\n",
    "                    ' psutil pandas scikit-image scikit-learn sphinx toposort pybind11').split()"
   ]
  },
  {
   "cell_type": "code",
   "execution_count": null,
   "id": "88dbab18",
   "metadata": {},
   "outputs": [],
   "source": []
  }
 ],
 "metadata": {
  "kernelspec": {
   "display_name": "Python 3 (ipykernel)",
   "language": "python",
   "name": "python3"
  },
  "language_info": {
   "codemirror_mode": {
    "name": "ipython",
    "version": 3
   },
   "file_extension": ".py",
   "mimetype": "text/x-python",
   "name": "python",
   "nbconvert_exporter": "python",
   "pygments_lexer": "ipython3",
   "version": "3.8.13"
  }
 },
 "nbformat": 4,
 "nbformat_minor": 5
}
