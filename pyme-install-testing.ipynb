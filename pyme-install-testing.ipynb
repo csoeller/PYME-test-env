{
 "cells": [
  {
   "cell_type": "code",
   "execution_count": 1,
   "id": "f687bf6e",
   "metadata": {},
   "outputs": [],
   "source": [
    "line = 'base                  *  /Users/csoe002/miniconda3'"
   ]
  },
  {
   "cell_type": "code",
   "execution_count": 2,
   "id": "ab0a370d",
   "metadata": {},
   "outputs": [],
   "source": [
    "import re"
   ]
  },
  {
   "cell_type": "code",
   "execution_count": 3,
   "id": "becd0a13",
   "metadata": {},
   "outputs": [],
   "source": [
    "restr = \"(\\S+)\\s+[*]*\\s*(\\S+)\""
   ]
  },
  {
   "cell_type": "code",
   "execution_count": 4,
   "id": "56e6d007",
   "metadata": {},
   "outputs": [],
   "source": [
    "m = re.match(restr,line)"
   ]
  },
  {
   "cell_type": "code",
   "execution_count": 5,
   "id": "c0ae4110",
   "metadata": {},
   "outputs": [
    {
     "data": {
      "text/plain": [
       "'base                  *  /Users/csoe002/miniconda3'"
      ]
     },
     "execution_count": 5,
     "metadata": {},
     "output_type": "execute_result"
    }
   ],
   "source": [
    "m.group(0)"
   ]
  },
  {
   "cell_type": "code",
   "execution_count": 6,
   "id": "04a12ac1",
   "metadata": {},
   "outputs": [
    {
     "data": {
      "text/plain": [
       "('base', '/Users/csoe002/miniconda3')"
      ]
     },
     "execution_count": 6,
     "metadata": {},
     "output_type": "execute_result"
    }
   ],
   "source": [
    "m.groups()"
   ]
  },
  {
   "cell_type": "code",
   "execution_count": 7,
   "id": "1290a044",
   "metadata": {},
   "outputs": [],
   "source": [
    "import condacmds as cmds"
   ]
  },
  {
   "cell_type": "code",
   "execution_count": 8,
   "id": "82b05877",
   "metadata": {},
   "outputs": [],
   "source": [
    "from pathlib import Path"
   ]
  },
  {
   "cell_type": "code",
   "execution_count": 9,
   "id": "aff9ac8e",
   "metadata": {
    "scrolled": true
   },
   "outputs": [],
   "source": [
    "# cmds.unpack_snapshot(Path(\"build-test\") / 'PYME-extra.zip', \"build-test\")"
   ]
  },
  {
   "cell_type": "code",
   "execution_count": 10,
   "id": "eaa3ff91",
   "metadata": {},
   "outputs": [
    {
     "data": {
      "text/plain": [
       "'PYME-extra-master'"
      ]
     },
     "execution_count": 10,
     "metadata": {},
     "output_type": "execute_result"
    }
   ],
   "source": [
    "cmds.repo_dirname('soeller/PYME-extra')"
   ]
  },
  {
   "cell_type": "code",
   "execution_count": 11,
   "id": "8a3ff44e",
   "metadata": {},
   "outputs": [
    {
     "name": "stdout",
     "output_type": "stream",
     "text": [
      "https://github.com/csoeller/PYME-extra/archive/refs/heads/master.zip\n",
      "PYME-extra\n"
     ]
    }
   ],
   "source": [
    "print(cmds.repo_url('csoeller/PYME-extra'))\n",
    "print(cmds.repobasename('csoeller/PYME-extra'))"
   ]
  },
  {
   "cell_type": "code",
   "execution_count": 13,
   "id": "8ce2b5ca",
   "metadata": {},
   "outputs": [],
   "source": [
    "python='3.9'\n",
    "environment='test-pyme-%s' % python"
   ]
  },
  {
   "cell_type": "code",
   "execution_count": 15,
   "id": "8ae0744d",
   "metadata": {},
   "outputs": [
    {
     "name": "stdout",
     "output_type": "stream",
     "text": [
      "/Users/csoe002/miniconda3/envs/pyme38_2/bin/python\n",
      "\n"
     ]
    }
   ],
   "source": [
    "from subprocess import run\n",
    "compoundcmd = \"conda activate %s ; which python\" % (environment)\n",
    "# need to use the shell flag!!\n",
    "# Otherwise we get an error as the commandstring does not get parsed properly\n",
    "proc = run(compoundcmd, text=True, capture_output=True, shell=True)\n",
    "print(proc.stdout)"
   ]
  },
  {
   "cell_type": "code",
   "execution_count": 16,
   "id": "35006add",
   "metadata": {},
   "outputs": [
    {
     "data": {
      "text/plain": [
       "'/Users/csoe002/miniconda3/envs/pyme38_2/bin/python'"
      ]
     },
     "execution_count": 16,
     "metadata": {},
     "output_type": "execute_result"
    }
   ],
   "source": [
    "import sys\n",
    "sys.executable"
   ]
  },
  {
   "cell_type": "code",
   "execution_count": 19,
   "id": "6f8b6b17",
   "metadata": {},
   "outputs": [
    {
     "data": {
      "text/plain": [
       "PosixPath('/Users/csoe002/miniconda3/envs/pyme38_2/bin/python.app')"
      ]
     },
     "execution_count": 19,
     "metadata": {},
     "output_type": "execute_result"
    }
   ],
   "source": [
    "Path(sys.executable).with_suffix('.app')"
   ]
  },
  {
   "cell_type": "code",
   "execution_count": null,
   "id": "02944084",
   "metadata": {},
   "outputs": [],
   "source": []
  }
 ],
 "metadata": {
  "kernelspec": {
   "display_name": "Python 3 (ipykernel)",
   "language": "python",
   "name": "python3"
  },
  "language_info": {
   "codemirror_mode": {
    "name": "ipython",
    "version": 3
   },
   "file_extension": ".py",
   "mimetype": "text/x-python",
   "name": "python",
   "nbconvert_exporter": "python",
   "pygments_lexer": "ipython3",
   "version": "3.8.13"
  }
 },
 "nbformat": 4,
 "nbformat_minor": 5
}
