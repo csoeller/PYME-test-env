{
 "cells": [
  {
   "cell_type": "code",
   "execution_count": 1,
   "id": "f687bf6e",
   "metadata": {},
   "outputs": [],
   "source": [
    "line = 'base                  *  /Users/csoe002/miniconda3'"
   ]
  },
  {
   "cell_type": "code",
   "execution_count": 3,
   "id": "ab0a370d",
   "metadata": {},
   "outputs": [],
   "source": [
    "import re"
   ]
  },
  {
   "cell_type": "code",
   "execution_count": 4,
   "id": "becd0a13",
   "metadata": {},
   "outputs": [],
   "source": [
    "restr = \"(\\S+)\\s+[*]*\\s*(\\S+)\""
   ]
  },
  {
   "cell_type": "code",
   "execution_count": 6,
   "id": "56e6d007",
   "metadata": {},
   "outputs": [],
   "source": [
    "m = re.match(restr,line)"
   ]
  },
  {
   "cell_type": "code",
   "execution_count": 8,
   "id": "c0ae4110",
   "metadata": {},
   "outputs": [
    {
     "data": {
      "text/plain": [
       "'base                  *  /Users/csoe002/miniconda3'"
      ]
     },
     "execution_count": 8,
     "metadata": {},
     "output_type": "execute_result"
    }
   ],
   "source": [
    "m.group(0)"
   ]
  },
  {
   "cell_type": "code",
   "execution_count": 9,
   "id": "04a12ac1",
   "metadata": {},
   "outputs": [
    {
     "data": {
      "text/plain": [
       "('base', '/Users/csoe002/miniconda3')"
      ]
     },
     "execution_count": 9,
     "metadata": {},
     "output_type": "execute_result"
    }
   ],
   "source": [
    "m.groups()"
   ]
  },
  {
   "cell_type": "code",
   "execution_count": null,
   "id": "1290a044",
   "metadata": {},
   "outputs": [],
   "source": []
  }
 ],
 "metadata": {
  "kernelspec": {
   "display_name": "Python 3 (ipykernel)",
   "language": "python",
   "name": "python3"
  },
  "language_info": {
   "codemirror_mode": {
    "name": "ipython",
    "version": 3
   },
   "file_extension": ".py",
   "mimetype": "text/x-python",
   "name": "python",
   "nbconvert_exporter": "python",
   "pygments_lexer": "ipython3",
   "version": "3.8.13"
  }
 },
 "nbformat": 4,
 "nbformat_minor": 5
}
